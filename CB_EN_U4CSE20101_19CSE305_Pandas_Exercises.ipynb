{
  "cells": [
    {
      "cell_type": "markdown",
      "metadata": {
        "id": "view-in-github",
        "colab_type": "text"
      },
      "source": [
        "<a href=\"https://colab.research.google.com/github/Aadithian/Machine-Learning-Week-3-Lab/blob/main/CB_EN_U4CSE20101_19CSE305_Pandas_Exercises.ipynb\" target=\"_parent\"><img src=\"https://colab.research.google.com/assets/colab-badge.svg\" alt=\"Open In Colab\"/></a>"
      ]
    },
    {
      "cell_type": "markdown",
      "metadata": {
        "id": "wXpLoNd4JTPX"
      },
      "source": [
        "# 19CSE305 ML - Pandas Exercise Questions - 30th Sep 2022"
      ]
    },
    {
      "cell_type": "markdown",
      "metadata": {
        "id": "QjNltmkhJTPe"
      },
      "source": [
        "### Task 1. Go to https://www.kaggle.com/openfoodfacts/world-food-facts/data"
      ]
    },
    {
      "cell_type": "markdown",
      "metadata": {
        "id": "eNMKFph_JTPf"
      },
      "source": [
        "### Task 2. Download the dataset to your computer and unzip it."
      ]
    },
    {
      "cell_type": "markdown",
      "metadata": {
        "id": "dCpvoHymJTPg"
      },
      "source": [
        "### Task 3. Use the tsv file and assign it to a dataframe called food"
      ]
    },
    {
      "cell_type": "code",
      "execution_count": null,
      "metadata": {
        "id": "2I70ttuxJTPh",
        "outputId": "35d97fb0-fd8c-494a-eecb-7d2f3072824a"
      },
      "outputs": [
        {
          "name": "stderr",
          "output_type": "stream",
          "text": [
            "C:\\Users\\Aadithian S Biju\\AppData\\Local\\Temp\\ipykernel_18180\\2897523326.py:2: DtypeWarning: Columns (0,3,5,19,20,24,25,26,27,28,36,37,38,39,48) have mixed types. Specify dtype option on import or set low_memory=False.\n",
            "  food=pd.read_csv(\"C:\\\\Users\\\\Aadithian S Biju\\\\OneDrive - Amrita Vishwa Vidyapeetham\\\\SEM 5 Work\\\\Machine Learning\\\\Open Food Facts Datasets\\\\archive\\\\foods.tsv\", sep=\"\\t\")\n"
          ]
        }
      ],
      "source": [
        "import pandas as pd\n",
        "food=pd.read_csv(\"C:\\\\Users\\\\Aadithian S Biju\\\\OneDrive - Amrita Vishwa Vidyapeetham\\\\SEM 5 Work\\\\Machine Learning\\\\Open Food Facts Datasets\\\\archive\\\\foods.tsv\", sep=\"\\t\")"
      ]
    },
    {
      "cell_type": "markdown",
      "metadata": {
        "id": "g_lvc5V_JTPi"
      },
      "source": [
        "### Task 4. See the first 5 entries"
      ]
    },
    {
      "cell_type": "code",
      "execution_count": null,
      "metadata": {
        "id": "6ztWFksJJTPj",
        "outputId": "999b8a76-bc1d-48eb-8039-830dcf328bdf"
      },
      "outputs": [
        {
          "data": {
            "text/html": [
              "<div>\n",
              "<style scoped>\n",
              "    .dataframe tbody tr th:only-of-type {\n",
              "        vertical-align: middle;\n",
              "    }\n",
              "\n",
              "    .dataframe tbody tr th {\n",
              "        vertical-align: top;\n",
              "    }\n",
              "\n",
              "    .dataframe thead th {\n",
              "        text-align: right;\n",
              "    }\n",
              "</style>\n",
              "<table border=\"1\" class=\"dataframe\">\n",
              "  <thead>\n",
              "    <tr style=\"text-align: right;\">\n",
              "      <th></th>\n",
              "      <th>code</th>\n",
              "      <th>url</th>\n",
              "      <th>creator</th>\n",
              "      <th>created_t</th>\n",
              "      <th>created_datetime</th>\n",
              "      <th>last_modified_t</th>\n",
              "      <th>last_modified_datetime</th>\n",
              "      <th>product_name</th>\n",
              "      <th>generic_name</th>\n",
              "      <th>quantity</th>\n",
              "      <th>...</th>\n",
              "      <th>fruits-vegetables-nuts_100g</th>\n",
              "      <th>fruits-vegetables-nuts-estimate_100g</th>\n",
              "      <th>collagen-meat-protein-ratio_100g</th>\n",
              "      <th>cocoa_100g</th>\n",
              "      <th>chlorophyl_100g</th>\n",
              "      <th>carbon-footprint_100g</th>\n",
              "      <th>nutrition-score-fr_100g</th>\n",
              "      <th>nutrition-score-uk_100g</th>\n",
              "      <th>glycemic-index_100g</th>\n",
              "      <th>water-hardness_100g</th>\n",
              "    </tr>\n",
              "  </thead>\n",
              "  <tbody>\n",
              "    <tr>\n",
              "      <th>0</th>\n",
              "      <td>3087</td>\n",
              "      <td>http://world-en.openfoodfacts.org/product/0000...</td>\n",
              "      <td>openfoodfacts-contributors</td>\n",
              "      <td>1474103866</td>\n",
              "      <td>2016-09-17T09:17:46Z</td>\n",
              "      <td>1474103893</td>\n",
              "      <td>2016-09-17T09:18:13Z</td>\n",
              "      <td>Farine de blé noir</td>\n",
              "      <td>NaN</td>\n",
              "      <td>1kg</td>\n",
              "      <td>...</td>\n",
              "      <td>NaN</td>\n",
              "      <td>NaN</td>\n",
              "      <td>NaN</td>\n",
              "      <td>NaN</td>\n",
              "      <td>NaN</td>\n",
              "      <td>NaN</td>\n",
              "      <td>NaN</td>\n",
              "      <td>NaN</td>\n",
              "      <td>NaN</td>\n",
              "      <td>NaN</td>\n",
              "    </tr>\n",
              "    <tr>\n",
              "      <th>1</th>\n",
              "      <td>4530</td>\n",
              "      <td>http://world-en.openfoodfacts.org/product/0000...</td>\n",
              "      <td>usda-ndb-import</td>\n",
              "      <td>1489069957</td>\n",
              "      <td>2017-03-09T14:32:37Z</td>\n",
              "      <td>1489069957</td>\n",
              "      <td>2017-03-09T14:32:37Z</td>\n",
              "      <td>Banana Chips Sweetened (Whole)</td>\n",
              "      <td>NaN</td>\n",
              "      <td>NaN</td>\n",
              "      <td>...</td>\n",
              "      <td>NaN</td>\n",
              "      <td>NaN</td>\n",
              "      <td>NaN</td>\n",
              "      <td>NaN</td>\n",
              "      <td>NaN</td>\n",
              "      <td>NaN</td>\n",
              "      <td>14.0</td>\n",
              "      <td>14.0</td>\n",
              "      <td>NaN</td>\n",
              "      <td>NaN</td>\n",
              "    </tr>\n",
              "    <tr>\n",
              "      <th>2</th>\n",
              "      <td>4559</td>\n",
              "      <td>http://world-en.openfoodfacts.org/product/0000...</td>\n",
              "      <td>usda-ndb-import</td>\n",
              "      <td>1489069957</td>\n",
              "      <td>2017-03-09T14:32:37Z</td>\n",
              "      <td>1489069957</td>\n",
              "      <td>2017-03-09T14:32:37Z</td>\n",
              "      <td>Peanuts</td>\n",
              "      <td>NaN</td>\n",
              "      <td>NaN</td>\n",
              "      <td>...</td>\n",
              "      <td>NaN</td>\n",
              "      <td>NaN</td>\n",
              "      <td>NaN</td>\n",
              "      <td>NaN</td>\n",
              "      <td>NaN</td>\n",
              "      <td>NaN</td>\n",
              "      <td>0.0</td>\n",
              "      <td>0.0</td>\n",
              "      <td>NaN</td>\n",
              "      <td>NaN</td>\n",
              "    </tr>\n",
              "    <tr>\n",
              "      <th>3</th>\n",
              "      <td>16087</td>\n",
              "      <td>http://world-en.openfoodfacts.org/product/0000...</td>\n",
              "      <td>usda-ndb-import</td>\n",
              "      <td>1489055731</td>\n",
              "      <td>2017-03-09T10:35:31Z</td>\n",
              "      <td>1489055731</td>\n",
              "      <td>2017-03-09T10:35:31Z</td>\n",
              "      <td>Organic Salted Nut Mix</td>\n",
              "      <td>NaN</td>\n",
              "      <td>NaN</td>\n",
              "      <td>...</td>\n",
              "      <td>NaN</td>\n",
              "      <td>NaN</td>\n",
              "      <td>NaN</td>\n",
              "      <td>NaN</td>\n",
              "      <td>NaN</td>\n",
              "      <td>NaN</td>\n",
              "      <td>12.0</td>\n",
              "      <td>12.0</td>\n",
              "      <td>NaN</td>\n",
              "      <td>NaN</td>\n",
              "    </tr>\n",
              "    <tr>\n",
              "      <th>4</th>\n",
              "      <td>16094</td>\n",
              "      <td>http://world-en.openfoodfacts.org/product/0000...</td>\n",
              "      <td>usda-ndb-import</td>\n",
              "      <td>1489055653</td>\n",
              "      <td>2017-03-09T10:34:13Z</td>\n",
              "      <td>1489055653</td>\n",
              "      <td>2017-03-09T10:34:13Z</td>\n",
              "      <td>Organic Polenta</td>\n",
              "      <td>NaN</td>\n",
              "      <td>NaN</td>\n",
              "      <td>...</td>\n",
              "      <td>NaN</td>\n",
              "      <td>NaN</td>\n",
              "      <td>NaN</td>\n",
              "      <td>NaN</td>\n",
              "      <td>NaN</td>\n",
              "      <td>NaN</td>\n",
              "      <td>NaN</td>\n",
              "      <td>NaN</td>\n",
              "      <td>NaN</td>\n",
              "      <td>NaN</td>\n",
              "    </tr>\n",
              "  </tbody>\n",
              "</table>\n",
              "<p>5 rows × 163 columns</p>\n",
              "</div>"
            ],
            "text/plain": [
              "    code                                                url  \\\n",
              "0   3087  http://world-en.openfoodfacts.org/product/0000...   \n",
              "1   4530  http://world-en.openfoodfacts.org/product/0000...   \n",
              "2   4559  http://world-en.openfoodfacts.org/product/0000...   \n",
              "3  16087  http://world-en.openfoodfacts.org/product/0000...   \n",
              "4  16094  http://world-en.openfoodfacts.org/product/0000...   \n",
              "\n",
              "                      creator   created_t      created_datetime  \\\n",
              "0  openfoodfacts-contributors  1474103866  2016-09-17T09:17:46Z   \n",
              "1             usda-ndb-import  1489069957  2017-03-09T14:32:37Z   \n",
              "2             usda-ndb-import  1489069957  2017-03-09T14:32:37Z   \n",
              "3             usda-ndb-import  1489055731  2017-03-09T10:35:31Z   \n",
              "4             usda-ndb-import  1489055653  2017-03-09T10:34:13Z   \n",
              "\n",
              "  last_modified_t last_modified_datetime                    product_name  \\\n",
              "0      1474103893   2016-09-17T09:18:13Z              Farine de blé noir   \n",
              "1      1489069957   2017-03-09T14:32:37Z  Banana Chips Sweetened (Whole)   \n",
              "2      1489069957   2017-03-09T14:32:37Z                         Peanuts   \n",
              "3      1489055731   2017-03-09T10:35:31Z          Organic Salted Nut Mix   \n",
              "4      1489055653   2017-03-09T10:34:13Z                 Organic Polenta   \n",
              "\n",
              "  generic_name quantity  ... fruits-vegetables-nuts_100g  \\\n",
              "0          NaN      1kg  ...                         NaN   \n",
              "1          NaN      NaN  ...                         NaN   \n",
              "2          NaN      NaN  ...                         NaN   \n",
              "3          NaN      NaN  ...                         NaN   \n",
              "4          NaN      NaN  ...                         NaN   \n",
              "\n",
              "  fruits-vegetables-nuts-estimate_100g collagen-meat-protein-ratio_100g  \\\n",
              "0                                  NaN                              NaN   \n",
              "1                                  NaN                              NaN   \n",
              "2                                  NaN                              NaN   \n",
              "3                                  NaN                              NaN   \n",
              "4                                  NaN                              NaN   \n",
              "\n",
              "  cocoa_100g chlorophyl_100g carbon-footprint_100g nutrition-score-fr_100g  \\\n",
              "0        NaN             NaN                   NaN                     NaN   \n",
              "1        NaN             NaN                   NaN                    14.0   \n",
              "2        NaN             NaN                   NaN                     0.0   \n",
              "3        NaN             NaN                   NaN                    12.0   \n",
              "4        NaN             NaN                   NaN                     NaN   \n",
              "\n",
              "  nutrition-score-uk_100g glycemic-index_100g water-hardness_100g  \n",
              "0                     NaN                 NaN                 NaN  \n",
              "1                    14.0                 NaN                 NaN  \n",
              "2                     0.0                 NaN                 NaN  \n",
              "3                    12.0                 NaN                 NaN  \n",
              "4                     NaN                 NaN                 NaN  \n",
              "\n",
              "[5 rows x 163 columns]"
            ]
          },
          "execution_count": 3,
          "metadata": {},
          "output_type": "execute_result"
        }
      ],
      "source": [
        "food.head()"
      ]
    },
    {
      "cell_type": "markdown",
      "metadata": {
        "id": "TEQadnU5JTPj"
      },
      "source": [
        "### Task 5. What is the number of observations in the dataset?"
      ]
    },
    {
      "cell_type": "code",
      "execution_count": null,
      "metadata": {
        "id": "MNyiWgA2JTPk",
        "outputId": "f1fd7045-dca5-4da0-9525-31281c738023"
      },
      "outputs": [
        {
          "name": "stdout",
          "output_type": "stream",
          "text": [
            "<class 'pandas.core.frame.DataFrame'>\n",
            "RangeIndex: 356027 entries, 0 to 356026\n",
            "Columns: 163 entries, code to water-hardness_100g\n",
            "dtypes: float64(107), object(56)\n",
            "memory usage: 442.8+ MB\n"
          ]
        }
      ],
      "source": [
        "food.info()\n"
      ]
    },
    {
      "cell_type": "markdown",
      "metadata": {
        "id": "UKAKOwM8JTPl"
      },
      "source": [
        "### Task 6. What is the number of columns in the dataset?"
      ]
    },
    {
      "cell_type": "code",
      "execution_count": null,
      "metadata": {
        "id": "yT0aYBICJTPl",
        "outputId": "d0cc647a-d3bb-417e-9fee-710f18aa6439"
      },
      "outputs": [
        {
          "name": "stdout",
          "output_type": "stream",
          "text": [
            "<class 'pandas.core.frame.DataFrame'>\n",
            "RangeIndex: 356027 entries, 0 to 356026\n",
            "Columns: 163 entries, code to water-hardness_100g\n",
            "dtypes: float64(107), object(56)\n",
            "memory usage: 442.8+ MB\n"
          ]
        }
      ],
      "source": [
        "food.info()\n"
      ]
    },
    {
      "cell_type": "markdown",
      "metadata": {
        "id": "PRhgfbSlJTPl"
      },
      "source": [
        "### Task 7. Print the name of all the columns."
      ]
    },
    {
      "cell_type": "code",
      "execution_count": null,
      "metadata": {
        "id": "6lfUgbbqJTPm",
        "outputId": "38bea409-a756-4e7c-b42d-ded07ffabe07"
      },
      "outputs": [
        {
          "data": {
            "text/plain": [
              "Index(['code', 'url', 'creator', 'created_t', 'created_datetime',\n",
              "       'last_modified_t', 'last_modified_datetime', 'product_name',\n",
              "       'generic_name', 'quantity',\n",
              "       ...\n",
              "       'fruits-vegetables-nuts_100g', 'fruits-vegetables-nuts-estimate_100g',\n",
              "       'collagen-meat-protein-ratio_100g', 'cocoa_100g', 'chlorophyl_100g',\n",
              "       'carbon-footprint_100g', 'nutrition-score-fr_100g',\n",
              "       'nutrition-score-uk_100g', 'glycemic-index_100g',\n",
              "       'water-hardness_100g'],\n",
              "      dtype='object', length=163)"
            ]
          },
          "execution_count": 6,
          "metadata": {},
          "output_type": "execute_result"
        }
      ],
      "source": [
        "food.columns\n"
      ]
    },
    {
      "cell_type": "markdown",
      "metadata": {
        "id": "6sp6dOJ7JTPm"
      },
      "source": [
        "### Task 8. What is the name of 105th column?"
      ]
    },
    {
      "cell_type": "code",
      "execution_count": null,
      "metadata": {
        "id": "pH2eoXf6JTPm",
        "outputId": "c7bd08d5-e227-42b2-84f9-a2a0df428741"
      },
      "outputs": [
        {
          "data": {
            "text/plain": [
              "'-fructose_100g'"
            ]
          },
          "execution_count": 7,
          "metadata": {},
          "output_type": "execute_result"
        }
      ],
      "source": [
        "food.columns[105]"
      ]
    },
    {
      "cell_type": "markdown",
      "metadata": {
        "id": "4iagES7XJTPn"
      },
      "source": [
        "### Task 9. What is the type of the observations of the 105th column?"
      ]
    },
    {
      "cell_type": "code",
      "execution_count": null,
      "metadata": {
        "id": "RD0UgGTDJTPn",
        "outputId": "fd3e4f5f-0e9b-4630-d417-78191b07432b"
      },
      "outputs": [
        {
          "name": "stdout",
          "output_type": "stream",
          "text": [
            "<class 'pandas.core.frame.DataFrame'>\n",
            "RangeIndex: 356027 entries, 0 to 356026\n",
            "Data columns (total 163 columns):\n",
            " #    Column                                      Dtype  \n",
            "---   ------                                      -----  \n",
            " 0    code                                        object \n",
            " 1    url                                         object \n",
            " 2    creator                                     object \n",
            " 3    created_t                                   object \n",
            " 4    created_datetime                            object \n",
            " 5    last_modified_t                             object \n",
            " 6    last_modified_datetime                      object \n",
            " 7    product_name                                object \n",
            " 8    generic_name                                object \n",
            " 9    quantity                                    object \n",
            " 10   packaging                                   object \n",
            " 11   packaging_tags                              object \n",
            " 12   brands                                      object \n",
            " 13   brands_tags                                 object \n",
            " 14   categories                                  object \n",
            " 15   categories_tags                             object \n",
            " 16   categories_en                               object \n",
            " 17   origins                                     object \n",
            " 18   origins_tags                                object \n",
            " 19   manufacturing_places                        object \n",
            " 20   manufacturing_places_tags                   object \n",
            " 21   labels                                      object \n",
            " 22   labels_tags                                 object \n",
            " 23   labels_en                                   object \n",
            " 24   emb_codes                                   object \n",
            " 25   emb_codes_tags                              object \n",
            " 26   first_packaging_code_geo                    object \n",
            " 27   cities                                      object \n",
            " 28   cities_tags                                 object \n",
            " 29   purchase_places                             object \n",
            " 30   stores                                      object \n",
            " 31   countries                                   object \n",
            " 32   countries_tags                              object \n",
            " 33   countries_en                                object \n",
            " 34   ingredients_text                            object \n",
            " 35   allergens                                   object \n",
            " 36   allergens_en                                object \n",
            " 37   traces                                      object \n",
            " 38   traces_tags                                 object \n",
            " 39   traces_en                                   object \n",
            " 40   serving_size                                object \n",
            " 41   no_nutriments                               float64\n",
            " 42   additives_n                                 float64\n",
            " 43   additives                                   object \n",
            " 44   additives_tags                              object \n",
            " 45   additives_en                                object \n",
            " 46   ingredients_from_palm_oil_n                 float64\n",
            " 47   ingredients_from_palm_oil                   float64\n",
            " 48   ingredients_from_palm_oil_tags              object \n",
            " 49   ingredients_that_may_be_from_palm_oil_n     float64\n",
            " 50   ingredients_that_may_be_from_palm_oil       float64\n",
            " 51   ingredients_that_may_be_from_palm_oil_tags  object \n",
            " 52   nutrition_grade_uk                          float64\n",
            " 53   nutrition_grade_fr                          object \n",
            " 54   pnns_groups_1                               object \n",
            " 55   pnns_groups_2                               object \n",
            " 56   states                                      object \n",
            " 57   states_tags                                 object \n",
            " 58   states_en                                   object \n",
            " 59   main_category                               object \n",
            " 60   main_category_en                            object \n",
            " 61   image_url                                   object \n",
            " 62   image_small_url                             object \n",
            " 63   energy_100g                                 float64\n",
            " 64   energy-from-fat_100g                        float64\n",
            " 65   fat_100g                                    float64\n",
            " 66   saturated-fat_100g                          float64\n",
            " 67   -butyric-acid_100g                          float64\n",
            " 68   -caproic-acid_100g                          float64\n",
            " 69   -caprylic-acid_100g                         float64\n",
            " 70   -capric-acid_100g                           float64\n",
            " 71   -lauric-acid_100g                           float64\n",
            " 72   -myristic-acid_100g                         float64\n",
            " 73   -palmitic-acid_100g                         float64\n",
            " 74   -stearic-acid_100g                          float64\n",
            " 75   -arachidic-acid_100g                        float64\n",
            " 76   -behenic-acid_100g                          float64\n",
            " 77   -lignoceric-acid_100g                       float64\n",
            " 78   -cerotic-acid_100g                          float64\n",
            " 79   -montanic-acid_100g                         float64\n",
            " 80   -melissic-acid_100g                         float64\n",
            " 81   monounsaturated-fat_100g                    float64\n",
            " 82   polyunsaturated-fat_100g                    float64\n",
            " 83   omega-3-fat_100g                            float64\n",
            " 84   -alpha-linolenic-acid_100g                  float64\n",
            " 85   -eicosapentaenoic-acid_100g                 float64\n",
            " 86   -docosahexaenoic-acid_100g                  float64\n",
            " 87   omega-6-fat_100g                            float64\n",
            " 88   -linoleic-acid_100g                         float64\n",
            " 89   -arachidonic-acid_100g                      float64\n",
            " 90   -gamma-linolenic-acid_100g                  float64\n",
            " 91   -dihomo-gamma-linolenic-acid_100g           float64\n",
            " 92   omega-9-fat_100g                            float64\n",
            " 93   -oleic-acid_100g                            float64\n",
            " 94   -elaidic-acid_100g                          float64\n",
            " 95   -gondoic-acid_100g                          float64\n",
            " 96   -mead-acid_100g                             float64\n",
            " 97   -erucic-acid_100g                           float64\n",
            " 98   -nervonic-acid_100g                         float64\n",
            " 99   trans-fat_100g                              float64\n",
            " 100  cholesterol_100g                            float64\n",
            " 101  carbohydrates_100g                          float64\n",
            " 102  sugars_100g                                 float64\n",
            " 103  -sucrose_100g                               float64\n",
            " 104  -glucose_100g                               float64\n",
            " 105  -fructose_100g                              float64\n",
            " 106  -lactose_100g                               float64\n",
            " 107  -maltose_100g                               float64\n",
            " 108  -maltodextrins_100g                         float64\n",
            " 109  starch_100g                                 float64\n",
            " 110  polyols_100g                                float64\n",
            " 111  fiber_100g                                  float64\n",
            " 112  proteins_100g                               float64\n",
            " 113  casein_100g                                 float64\n",
            " 114  serum-proteins_100g                         float64\n",
            " 115  nucleotides_100g                            float64\n",
            " 116  salt_100g                                   float64\n",
            " 117  sodium_100g                                 float64\n",
            " 118  alcohol_100g                                float64\n",
            " 119  vitamin-a_100g                              float64\n",
            " 120  beta-carotene_100g                          float64\n",
            " 121  vitamin-d_100g                              float64\n",
            " 122  vitamin-e_100g                              float64\n",
            " 123  vitamin-k_100g                              float64\n",
            " 124  vitamin-c_100g                              float64\n",
            " 125  vitamin-b1_100g                             float64\n",
            " 126  vitamin-b2_100g                             float64\n",
            " 127  vitamin-pp_100g                             float64\n",
            " 128  vitamin-b6_100g                             float64\n",
            " 129  vitamin-b9_100g                             float64\n",
            " 130  folates_100g                                float64\n",
            " 131  vitamin-b12_100g                            float64\n",
            " 132  biotin_100g                                 float64\n",
            " 133  pantothenic-acid_100g                       float64\n",
            " 134  silica_100g                                 float64\n",
            " 135  bicarbonate_100g                            float64\n",
            " 136  potassium_100g                              float64\n",
            " 137  chloride_100g                               float64\n",
            " 138  calcium_100g                                float64\n",
            " 139  phosphorus_100g                             float64\n",
            " 140  iron_100g                                   float64\n",
            " 141  magnesium_100g                              float64\n",
            " 142  zinc_100g                                   float64\n",
            " 143  copper_100g                                 float64\n",
            " 144  manganese_100g                              float64\n",
            " 145  fluoride_100g                               float64\n",
            " 146  selenium_100g                               float64\n",
            " 147  chromium_100g                               float64\n",
            " 148  molybdenum_100g                             float64\n",
            " 149  iodine_100g                                 float64\n",
            " 150  caffeine_100g                               float64\n",
            " 151  taurine_100g                                float64\n",
            " 152  ph_100g                                     float64\n",
            " 153  fruits-vegetables-nuts_100g                 float64\n",
            " 154  fruits-vegetables-nuts-estimate_100g        float64\n",
            " 155  collagen-meat-protein-ratio_100g            float64\n",
            " 156  cocoa_100g                                  float64\n",
            " 157  chlorophyl_100g                             float64\n",
            " 158  carbon-footprint_100g                       float64\n",
            " 159  nutrition-score-fr_100g                     float64\n",
            " 160  nutrition-score-uk_100g                     float64\n",
            " 161  glycemic-index_100g                         float64\n",
            " 162  water-hardness_100g                         float64\n",
            "dtypes: float64(107), object(56)\n",
            "memory usage: 442.8+ MB\n"
          ]
        }
      ],
      "source": [
        "food.info(food.columns[105])\n"
      ]
    },
    {
      "cell_type": "markdown",
      "metadata": {
        "id": "ycvJ_BLHJTPn"
      },
      "source": [
        "### Task 10. How is the dataset indexed?"
      ]
    },
    {
      "cell_type": "code",
      "execution_count": null,
      "metadata": {
        "id": "nyymdIvuJTPo",
        "outputId": "8b8e5a92-9056-4aee-fe6f-8453611a5fc1"
      },
      "outputs": [
        {
          "name": "stdout",
          "output_type": "stream",
          "text": [
            "RangeIndex(start=0, stop=356027, step=1)\n"
          ]
        }
      ],
      "source": [
        "print(food.index)\n"
      ]
    },
    {
      "cell_type": "markdown",
      "metadata": {
        "id": "_3odsF2zJTPo"
      },
      "source": [
        "### Task 11. What is the product name of the 19th observation?"
      ]
    },
    {
      "cell_type": "code",
      "execution_count": null,
      "metadata": {
        "id": "HgU_6-WwJTPo",
        "outputId": "541d09ec-e4db-4460-a160-0e0abec112dc"
      },
      "outputs": [
        {
          "name": "stdout",
          "output_type": "stream",
          "text": [
            "Organic Oat Groats\n"
          ]
        }
      ],
      "source": [
        "x=food.loc[19]\n",
        "print(x.product_name)"
      ]
    },
    {
      "cell_type": "markdown",
      "metadata": {
        "id": "BwKpfzsfNjaH"
      },
      "source": [
        "### Task 12. How many columns in the dataset tend have null values?"
      ]
    },
    {
      "cell_type": "code",
      "execution_count": null,
      "metadata": {
        "id": "ork_Gt6hN2aL",
        "outputId": "cc787dee-1aae-4593-9dae-8b11a2357066"
      },
      "outputs": [
        {
          "name": "stdout",
          "output_type": "stream",
          "text": [
            "<class 'pandas.core.series.Series'>\n",
            "161\n"
          ]
        }
      ],
      "source": [
        "sol=0\n",
        "print(type(food.isnull().sum()))\n",
        "for i in food.isnull().sum():\n",
        "    if i>0:\n",
        "        sol+=1\n",
        "print(sol)"
      ]
    },
    {
      "cell_type": "markdown",
      "metadata": {
        "id": "HQE2BIsJN29w"
      },
      "source": [
        "### Task 13. Find the number of null values present under each column?"
      ]
    },
    {
      "cell_type": "code",
      "execution_count": null,
      "metadata": {
        "id": "RnKp96JLOELp",
        "outputId": "82c36f48-2c12-46c0-ebc9-09eecdbdb6d1"
      },
      "outputs": [
        {
          "data": {
            "text/plain": [
              "code                           26\n",
              "url                            26\n",
              "creator                         3\n",
              "created_t                       3\n",
              "created_datetime               10\n",
              "                            ...  \n",
              "carbon-footprint_100g      355749\n",
              "nutrition-score-fr_100g    101171\n",
              "nutrition-score-uk_100g    101171\n",
              "glycemic-index_100g        356027\n",
              "water-hardness_100g        356027\n",
              "Length: 163, dtype: int64"
            ]
          },
          "execution_count": 15,
          "metadata": {},
          "output_type": "execute_result"
        }
      ],
      "source": [
        "food.isnull().sum()\n"
      ]
    },
    {
      "cell_type": "markdown",
      "metadata": {
        "id": "tVRfno_aOEif"
      },
      "source": [
        "### Task 14. Create a dictionary with keys to be column names in the dataset and values to number of values under each column. Print the dictionary by iterating through its elements using a for loop.  "
      ]
    },
    {
      "cell_type": "code",
      "execution_count": null,
      "metadata": {
        "id": "s2oTpnGsOh6b"
      },
      "outputs": [],
      "source": [
        "dict={}\n",
        "for i in food.columns:\n",
        "    dict[i]=len(food)-food.isnull().sum()[i]\n",
        "for item in dict.items():\n",
        "    print(item)\n",
        "\n"
      ]
    },
    {
      "cell_type": "markdown",
      "metadata": {
        "id": "QKmg4r6hOiZ4"
      },
      "source": [
        "### Task 15. Display the values associated with all columns from row 108 to 208?"
      ]
    },
    {
      "cell_type": "code",
      "execution_count": null,
      "metadata": {
        "id": "eUpIiNHAQfM4",
        "outputId": "5e436182-c832-472f-d7ef-5bafe277e4d6"
      },
      "outputs": [
        {
          "data": {
            "text/html": [
              "<div>\n",
              "<style scoped>\n",
              "    .dataframe tbody tr th:only-of-type {\n",
              "        vertical-align: middle;\n",
              "    }\n",
              "\n",
              "    .dataframe tbody tr th {\n",
              "        vertical-align: top;\n",
              "    }\n",
              "\n",
              "    .dataframe thead th {\n",
              "        text-align: right;\n",
              "    }\n",
              "</style>\n",
              "<table border=\"1\" class=\"dataframe\">\n",
              "  <thead>\n",
              "    <tr style=\"text-align: right;\">\n",
              "      <th></th>\n",
              "      <th>code</th>\n",
              "      <th>url</th>\n",
              "      <th>creator</th>\n",
              "      <th>created_t</th>\n",
              "      <th>created_datetime</th>\n",
              "      <th>last_modified_t</th>\n",
              "      <th>last_modified_datetime</th>\n",
              "      <th>product_name</th>\n",
              "      <th>generic_name</th>\n",
              "      <th>quantity</th>\n",
              "      <th>...</th>\n",
              "      <th>fruits-vegetables-nuts_100g</th>\n",
              "      <th>fruits-vegetables-nuts-estimate_100g</th>\n",
              "      <th>collagen-meat-protein-ratio_100g</th>\n",
              "      <th>cocoa_100g</th>\n",
              "      <th>chlorophyl_100g</th>\n",
              "      <th>carbon-footprint_100g</th>\n",
              "      <th>nutrition-score-fr_100g</th>\n",
              "      <th>nutrition-score-uk_100g</th>\n",
              "      <th>glycemic-index_100g</th>\n",
              "      <th>water-hardness_100g</th>\n",
              "    </tr>\n",
              "  </thead>\n",
              "  <tbody>\n",
              "    <tr>\n",
              "      <th>108</th>\n",
              "      <td>36252</td>\n",
              "      <td>http://world-en.openfoodfacts.org/product/0000...</td>\n",
              "      <td>tacinte</td>\n",
              "      <td>1422221701</td>\n",
              "      <td>2015-01-25T21:35:01Z</td>\n",
              "      <td>1494824741</td>\n",
              "      <td>2017-05-15T05:05:41Z</td>\n",
              "      <td>Lion Peanut x2</td>\n",
              "      <td>NaN</td>\n",
              "      <td>NaN</td>\n",
              "      <td>...</td>\n",
              "      <td>NaN</td>\n",
              "      <td>NaN</td>\n",
              "      <td>NaN</td>\n",
              "      <td>NaN</td>\n",
              "      <td>NaN</td>\n",
              "      <td>NaN</td>\n",
              "      <td>NaN</td>\n",
              "      <td>NaN</td>\n",
              "      <td>NaN</td>\n",
              "      <td>NaN</td>\n",
              "    </tr>\n",
              "    <tr>\n",
              "      <th>109</th>\n",
              "      <td>36269</td>\n",
              "      <td>http://world-en.openfoodfacts.org/product/0000...</td>\n",
              "      <td>usda-ndb-import</td>\n",
              "      <td>1489055651</td>\n",
              "      <td>2017-03-09T10:34:11Z</td>\n",
              "      <td>1489055651</td>\n",
              "      <td>2017-03-09T10:34:11Z</td>\n",
              "      <td>Milk Chocolate Peanut Butter Malt Balls</td>\n",
              "      <td>NaN</td>\n",
              "      <td>NaN</td>\n",
              "      <td>...</td>\n",
              "      <td>NaN</td>\n",
              "      <td>NaN</td>\n",
              "      <td>NaN</td>\n",
              "      <td>NaN</td>\n",
              "      <td>NaN</td>\n",
              "      <td>NaN</td>\n",
              "      <td>23.0</td>\n",
              "      <td>23.0</td>\n",
              "      <td>NaN</td>\n",
              "      <td>NaN</td>\n",
              "    </tr>\n",
              "    <tr>\n",
              "      <th>110</th>\n",
              "      <td>36276</td>\n",
              "      <td>http://world-en.openfoodfacts.org/product/0000...</td>\n",
              "      <td>usda-ndb-import</td>\n",
              "      <td>1489055678</td>\n",
              "      <td>2017-03-09T10:34:38Z</td>\n",
              "      <td>1489055678</td>\n",
              "      <td>2017-03-09T10:34:38Z</td>\n",
              "      <td>Organic Tamari Pumpkin Seed</td>\n",
              "      <td>NaN</td>\n",
              "      <td>NaN</td>\n",
              "      <td>...</td>\n",
              "      <td>NaN</td>\n",
              "      <td>NaN</td>\n",
              "      <td>NaN</td>\n",
              "      <td>NaN</td>\n",
              "      <td>NaN</td>\n",
              "      <td>NaN</td>\n",
              "      <td>15.0</td>\n",
              "      <td>15.0</td>\n",
              "      <td>NaN</td>\n",
              "      <td>NaN</td>\n",
              "    </tr>\n",
              "    <tr>\n",
              "      <th>111</th>\n",
              "      <td>36986</td>\n",
              "      <td>http://world-en.openfoodfacts.org/product/0000...</td>\n",
              "      <td>usda-ndb-import</td>\n",
              "      <td>1489055649</td>\n",
              "      <td>2017-03-09T10:34:09Z</td>\n",
              "      <td>1489055649</td>\n",
              "      <td>2017-03-09T10:34:09Z</td>\n",
              "      <td>Yogurt Pretzels</td>\n",
              "      <td>NaN</td>\n",
              "      <td>NaN</td>\n",
              "      <td>...</td>\n",
              "      <td>NaN</td>\n",
              "      <td>NaN</td>\n",
              "      <td>NaN</td>\n",
              "      <td>NaN</td>\n",
              "      <td>NaN</td>\n",
              "      <td>NaN</td>\n",
              "      <td>30.0</td>\n",
              "      <td>30.0</td>\n",
              "      <td>NaN</td>\n",
              "      <td>NaN</td>\n",
              "    </tr>\n",
              "    <tr>\n",
              "      <th>112</th>\n",
              "      <td>38058</td>\n",
              "      <td>http://world-en.openfoodfacts.org/product/0000...</td>\n",
              "      <td>usda-ndb-import</td>\n",
              "      <td>1489055651</td>\n",
              "      <td>2017-03-09T10:34:11Z</td>\n",
              "      <td>1489055651</td>\n",
              "      <td>2017-03-09T10:34:11Z</td>\n",
              "      <td>Organic Kamut Flakes</td>\n",
              "      <td>NaN</td>\n",
              "      <td>NaN</td>\n",
              "      <td>...</td>\n",
              "      <td>NaN</td>\n",
              "      <td>NaN</td>\n",
              "      <td>NaN</td>\n",
              "      <td>NaN</td>\n",
              "      <td>NaN</td>\n",
              "      <td>NaN</td>\n",
              "      <td>NaN</td>\n",
              "      <td>NaN</td>\n",
              "      <td>NaN</td>\n",
              "      <td>NaN</td>\n",
              "    </tr>\n",
              "    <tr>\n",
              "      <th>...</th>\n",
              "      <td>...</td>\n",
              "      <td>...</td>\n",
              "      <td>...</td>\n",
              "      <td>...</td>\n",
              "      <td>...</td>\n",
              "      <td>...</td>\n",
              "      <td>...</td>\n",
              "      <td>...</td>\n",
              "      <td>...</td>\n",
              "      <td>...</td>\n",
              "      <td>...</td>\n",
              "      <td>...</td>\n",
              "      <td>...</td>\n",
              "      <td>...</td>\n",
              "      <td>...</td>\n",
              "      <td>...</td>\n",
              "      <td>...</td>\n",
              "      <td>...</td>\n",
              "      <td>...</td>\n",
              "      <td>...</td>\n",
              "      <td>...</td>\n",
              "    </tr>\n",
              "    <tr>\n",
              "      <th>204</th>\n",
              "      <td>20043087</td>\n",
              "      <td>http://world-en.openfoodfacts.org/product/0000...</td>\n",
              "      <td>usda-ndb-import</td>\n",
              "      <td>1489135780</td>\n",
              "      <td>2017-03-10T08:49:40Z</td>\n",
              "      <td>1489135780</td>\n",
              "      <td>2017-03-10T08:49:40Z</td>\n",
              "      <td>Biscuit</td>\n",
              "      <td>NaN</td>\n",
              "      <td>NaN</td>\n",
              "      <td>...</td>\n",
              "      <td>NaN</td>\n",
              "      <td>NaN</td>\n",
              "      <td>NaN</td>\n",
              "      <td>NaN</td>\n",
              "      <td>NaN</td>\n",
              "      <td>NaN</td>\n",
              "      <td>18.0</td>\n",
              "      <td>18.0</td>\n",
              "      <td>NaN</td>\n",
              "      <td>NaN</td>\n",
              "    </tr>\n",
              "    <tr>\n",
              "      <th>205</th>\n",
              "      <td>20043124</td>\n",
              "      <td>http://world-en.openfoodfacts.org/product/0000...</td>\n",
              "      <td>usda-ndb-import</td>\n",
              "      <td>1489133902</td>\n",
              "      <td>2017-03-10T08:18:22Z</td>\n",
              "      <td>1489133902</td>\n",
              "      <td>2017-03-10T08:18:22Z</td>\n",
              "      <td>Oatmeal Raisin Cookie</td>\n",
              "      <td>NaN</td>\n",
              "      <td>NaN</td>\n",
              "      <td>...</td>\n",
              "      <td>NaN</td>\n",
              "      <td>NaN</td>\n",
              "      <td>NaN</td>\n",
              "      <td>NaN</td>\n",
              "      <td>NaN</td>\n",
              "      <td>NaN</td>\n",
              "      <td>21.0</td>\n",
              "      <td>21.0</td>\n",
              "      <td>NaN</td>\n",
              "      <td>NaN</td>\n",
              "    </tr>\n",
              "    <tr>\n",
              "      <th>206</th>\n",
              "      <td>20043131</td>\n",
              "      <td>http://world-en.openfoodfacts.org/product/0000...</td>\n",
              "      <td>usda-ndb-import</td>\n",
              "      <td>1489133434</td>\n",
              "      <td>2017-03-10T08:10:34Z</td>\n",
              "      <td>1489133434</td>\n",
              "      <td>2017-03-10T08:10:34Z</td>\n",
              "      <td>Sliced Plain Bagel</td>\n",
              "      <td>NaN</td>\n",
              "      <td>NaN</td>\n",
              "      <td>...</td>\n",
              "      <td>NaN</td>\n",
              "      <td>NaN</td>\n",
              "      <td>NaN</td>\n",
              "      <td>NaN</td>\n",
              "      <td>NaN</td>\n",
              "      <td>NaN</td>\n",
              "      <td>2.0</td>\n",
              "      <td>2.0</td>\n",
              "      <td>NaN</td>\n",
              "      <td>NaN</td>\n",
              "    </tr>\n",
              "    <tr>\n",
              "      <th>207</th>\n",
              "      <td>20044015</td>\n",
              "      <td>http://world-en.openfoodfacts.org/product/0000...</td>\n",
              "      <td>usda-ndb-import</td>\n",
              "      <td>1489133902</td>\n",
              "      <td>2017-03-10T08:18:22Z</td>\n",
              "      <td>1489133902</td>\n",
              "      <td>2017-03-10T08:18:22Z</td>\n",
              "      <td>Scone</td>\n",
              "      <td>NaN</td>\n",
              "      <td>NaN</td>\n",
              "      <td>...</td>\n",
              "      <td>NaN</td>\n",
              "      <td>NaN</td>\n",
              "      <td>NaN</td>\n",
              "      <td>NaN</td>\n",
              "      <td>NaN</td>\n",
              "      <td>NaN</td>\n",
              "      <td>19.0</td>\n",
              "      <td>19.0</td>\n",
              "      <td>NaN</td>\n",
              "      <td>NaN</td>\n",
              "    </tr>\n",
              "    <tr>\n",
              "      <th>208</th>\n",
              "      <td>20044480</td>\n",
              "      <td>http://world-en.openfoodfacts.org/product/0000...</td>\n",
              "      <td>usda-ndb-import</td>\n",
              "      <td>1489133434</td>\n",
              "      <td>2017-03-10T08:10:34Z</td>\n",
              "      <td>1489133434</td>\n",
              "      <td>2017-03-10T08:10:34Z</td>\n",
              "      <td>Belgian Vanilla Waffle</td>\n",
              "      <td>NaN</td>\n",
              "      <td>NaN</td>\n",
              "      <td>...</td>\n",
              "      <td>NaN</td>\n",
              "      <td>NaN</td>\n",
              "      <td>NaN</td>\n",
              "      <td>NaN</td>\n",
              "      <td>NaN</td>\n",
              "      <td>NaN</td>\n",
              "      <td>25.0</td>\n",
              "      <td>25.0</td>\n",
              "      <td>NaN</td>\n",
              "      <td>NaN</td>\n",
              "    </tr>\n",
              "  </tbody>\n",
              "</table>\n",
              "<p>101 rows × 163 columns</p>\n",
              "</div>"
            ],
            "text/plain": [
              "         code                                                url  \\\n",
              "108     36252  http://world-en.openfoodfacts.org/product/0000...   \n",
              "109     36269  http://world-en.openfoodfacts.org/product/0000...   \n",
              "110     36276  http://world-en.openfoodfacts.org/product/0000...   \n",
              "111     36986  http://world-en.openfoodfacts.org/product/0000...   \n",
              "112     38058  http://world-en.openfoodfacts.org/product/0000...   \n",
              "..        ...                                                ...   \n",
              "204  20043087  http://world-en.openfoodfacts.org/product/0000...   \n",
              "205  20043124  http://world-en.openfoodfacts.org/product/0000...   \n",
              "206  20043131  http://world-en.openfoodfacts.org/product/0000...   \n",
              "207  20044015  http://world-en.openfoodfacts.org/product/0000...   \n",
              "208  20044480  http://world-en.openfoodfacts.org/product/0000...   \n",
              "\n",
              "             creator   created_t      created_datetime last_modified_t  \\\n",
              "108          tacinte  1422221701  2015-01-25T21:35:01Z      1494824741   \n",
              "109  usda-ndb-import  1489055651  2017-03-09T10:34:11Z      1489055651   \n",
              "110  usda-ndb-import  1489055678  2017-03-09T10:34:38Z      1489055678   \n",
              "111  usda-ndb-import  1489055649  2017-03-09T10:34:09Z      1489055649   \n",
              "112  usda-ndb-import  1489055651  2017-03-09T10:34:11Z      1489055651   \n",
              "..               ...         ...                   ...             ...   \n",
              "204  usda-ndb-import  1489135780  2017-03-10T08:49:40Z      1489135780   \n",
              "205  usda-ndb-import  1489133902  2017-03-10T08:18:22Z      1489133902   \n",
              "206  usda-ndb-import  1489133434  2017-03-10T08:10:34Z      1489133434   \n",
              "207  usda-ndb-import  1489133902  2017-03-10T08:18:22Z      1489133902   \n",
              "208  usda-ndb-import  1489133434  2017-03-10T08:10:34Z      1489133434   \n",
              "\n",
              "    last_modified_datetime                             product_name  \\\n",
              "108   2017-05-15T05:05:41Z                           Lion Peanut x2   \n",
              "109   2017-03-09T10:34:11Z  Milk Chocolate Peanut Butter Malt Balls   \n",
              "110   2017-03-09T10:34:38Z              Organic Tamari Pumpkin Seed   \n",
              "111   2017-03-09T10:34:09Z                          Yogurt Pretzels   \n",
              "112   2017-03-09T10:34:11Z                     Organic Kamut Flakes   \n",
              "..                     ...                                      ...   \n",
              "204   2017-03-10T08:49:40Z                                  Biscuit   \n",
              "205   2017-03-10T08:18:22Z                    Oatmeal Raisin Cookie   \n",
              "206   2017-03-10T08:10:34Z                       Sliced Plain Bagel   \n",
              "207   2017-03-10T08:18:22Z                                    Scone   \n",
              "208   2017-03-10T08:10:34Z                   Belgian Vanilla Waffle   \n",
              "\n",
              "    generic_name quantity  ... fruits-vegetables-nuts_100g  \\\n",
              "108          NaN      NaN  ...                         NaN   \n",
              "109          NaN      NaN  ...                         NaN   \n",
              "110          NaN      NaN  ...                         NaN   \n",
              "111          NaN      NaN  ...                         NaN   \n",
              "112          NaN      NaN  ...                         NaN   \n",
              "..           ...      ...  ...                         ...   \n",
              "204          NaN      NaN  ...                         NaN   \n",
              "205          NaN      NaN  ...                         NaN   \n",
              "206          NaN      NaN  ...                         NaN   \n",
              "207          NaN      NaN  ...                         NaN   \n",
              "208          NaN      NaN  ...                         NaN   \n",
              "\n",
              "    fruits-vegetables-nuts-estimate_100g collagen-meat-protein-ratio_100g  \\\n",
              "108                                  NaN                              NaN   \n",
              "109                                  NaN                              NaN   \n",
              "110                                  NaN                              NaN   \n",
              "111                                  NaN                              NaN   \n",
              "112                                  NaN                              NaN   \n",
              "..                                   ...                              ...   \n",
              "204                                  NaN                              NaN   \n",
              "205                                  NaN                              NaN   \n",
              "206                                  NaN                              NaN   \n",
              "207                                  NaN                              NaN   \n",
              "208                                  NaN                              NaN   \n",
              "\n",
              "    cocoa_100g chlorophyl_100g carbon-footprint_100g nutrition-score-fr_100g  \\\n",
              "108        NaN             NaN                   NaN                     NaN   \n",
              "109        NaN             NaN                   NaN                    23.0   \n",
              "110        NaN             NaN                   NaN                    15.0   \n",
              "111        NaN             NaN                   NaN                    30.0   \n",
              "112        NaN             NaN                   NaN                     NaN   \n",
              "..         ...             ...                   ...                     ...   \n",
              "204        NaN             NaN                   NaN                    18.0   \n",
              "205        NaN             NaN                   NaN                    21.0   \n",
              "206        NaN             NaN                   NaN                     2.0   \n",
              "207        NaN             NaN                   NaN                    19.0   \n",
              "208        NaN             NaN                   NaN                    25.0   \n",
              "\n",
              "    nutrition-score-uk_100g glycemic-index_100g water-hardness_100g  \n",
              "108                     NaN                 NaN                 NaN  \n",
              "109                    23.0                 NaN                 NaN  \n",
              "110                    15.0                 NaN                 NaN  \n",
              "111                    30.0                 NaN                 NaN  \n",
              "112                     NaN                 NaN                 NaN  \n",
              "..                      ...                 ...                 ...  \n",
              "204                    18.0                 NaN                 NaN  \n",
              "205                    21.0                 NaN                 NaN  \n",
              "206                     2.0                 NaN                 NaN  \n",
              "207                    19.0                 NaN                 NaN  \n",
              "208                    25.0                 NaN                 NaN  \n",
              "\n",
              "[101 rows x 163 columns]"
            ]
          },
          "execution_count": 20,
          "metadata": {},
          "output_type": "execute_result"
        }
      ],
      "source": [
        "food.loc[108:208]"
      ]
    },
    {
      "cell_type": "code",
      "execution_count": null,
      "metadata": {
        "id": "Buml34vLXonN"
      },
      "outputs": [],
      "source": []
    }
  ],
  "metadata": {
    "anaconda-cloud": {},
    "colab": {
      "provenance": [],
      "include_colab_link": true
    },
    "kernelspec": {
      "display_name": "Python 3 (ipykernel)",
      "language": "python",
      "name": "python3"
    },
    "language_info": {
      "codemirror_mode": {
        "name": "ipython",
        "version": 3
      },
      "file_extension": ".py",
      "mimetype": "text/x-python",
      "name": "python",
      "nbconvert_exporter": "python",
      "pygments_lexer": "ipython3",
      "version": "3.9.12"
    }
  },
  "nbformat": 4,
  "nbformat_minor": 0
}